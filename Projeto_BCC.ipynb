{
  "nbformat": 4,
  "nbformat_minor": 0,
  "metadata": {
    "colab": {
      "name": "Projeto-BCC.ipynb",
      "provenance": [],
      "include_colab_link": true
    },
    "kernelspec": {
      "name": "python3",
      "display_name": "Python 3"
    },
    "language_info": {
      "name": "python"
    }
  },
  "cells": [
    {
      "cell_type": "markdown",
      "metadata": {
        "id": "view-in-github",
        "colab_type": "text"
      },
      "source": [
        "<a href=\"https://colab.research.google.com/github/sabinonatalia/Aulas-Java-DevSchoolMJV/blob/main/Projeto_BCC.ipynb\" target=\"_parent\"><img src=\"https://colab.research.google.com/assets/colab-badge.svg\" alt=\"Open In Colab\"/></a>"
      ]
    },
    {
      "cell_type": "markdown",
      "metadata": {
        "id": "koJOdHG5sdjX"
      },
      "source": [
        "Fernanda Müller Ramaglia RA 11202020564 \n",
        "\n",
        "Lua Lucas Rangel Moura RA 11202021160\n",
        "\n",
        "Natália Sabino da Silva RA 11202022175\n",
        "\n",
        "\n",
        "**Título**: Análise sobre dados das novelas da TV Globo no período 1972 a 2019.\n",
        "\n",
        "**Descrição**: Neste projeto analisamos alguns dados das novelas da TV Globo, que é uma das principais produtoras de novelas do mundo. Utilizamos como base este dataset https://www.kaggle.com/rubaoalves/novelas-globo.\n",
        "\n",
        "**Fontes**: https://www.kaggle.com/rubaoalves/novelas-globo\n",
        "\n",
        "**Fonte principal**: https://www.kaggle.com/\n",
        "\n",
        " **Links da planilha**: https://docs.google.com/spreadsheets/d/e/2PACX-1vTGwmYh7j6LxAl7M5PnZuQ83SvQ6b6X36BGo2pmCaWc6387d6d0va6NlET7SKwR09SkIcACXds1vfJw/pub?output=csv\n",
        "\n",
        "**Link para o vídeo**: https://drive.google.com/file/d/1gS4KyRbfB_Ug1fiQyEk6ssFodty1At0w/view?usp=sharing"
      ]
    },
    {
      "cell_type": "code",
      "metadata": {
        "id": "b9pdScXurHDj"
      },
      "source": [
        "import pandas as pd\n",
        "import numpy as np\n",
        "import math\n",
        "import matplotlib.pyplot as plt\n",
        "%matplotlib inline"
      ],
      "execution_count": null,
      "outputs": []
    },
    {
      "cell_type": "markdown",
      "metadata": {
        "id": "WIeW08HVvh4S"
      },
      "source": [
        "Primeiramente fizemos a leitura da planilha com os dados principais da novelas.\n"
      ]
    },
    {
      "cell_type": "code",
      "metadata": {
        "id": "_YPAQB-IswA5"
      },
      "source": [
        "df = pd.read_csv(\"https://docs.google.com/spreadsheets/d/e/2PACX-1vTGwmYh7j6LxAl7M5PnZuQ83SvQ6b6X36BGo2pmCaWc6387d6d0va6NlET7SKwR09SkIcACXds1vfJw/pub?output=csv\")\n",
        "df"
      ],
      "execution_count": null,
      "outputs": []
    },
    {
      "cell_type": "markdown",
      "metadata": {
        "id": "jbxOatEQvg3i"
      },
      "source": [
        "Os dados que utilizamos na análise é referente aos anos de 1972 a 2019."
      ]
    },
    {
      "cell_type": "code",
      "metadata": {
        "id": "7simJPyS1L84"
      },
      "source": [
        "print(df[\"ano\"].min())\n",
        "print(df[\"ano\"].max())"
      ],
      "execution_count": null,
      "outputs": []
    },
    {
      "cell_type": "markdown",
      "metadata": {
        "id": "Q34IpRIVvfLS"
      },
      "source": [
        "Aqui fizemos duas planilhas de ordem decrescente: \n",
        "1. A primeira ordenamos um top 10 de novelas de maior audiência \n",
        "2. A segunda ordenamos um top 25 de novelas de maior audiência"
      ]
    },
    {
      "cell_type": "code",
      "metadata": {
        "id": "ad-a1yX5vf6q"
      },
      "source": [
        "df.sort_values(by=\"audiência\", inplace=True, ascending=False,  ignore_index=True)\n",
        "df_audiencia10 = df.head(10)\n",
        "df_audiencia25 = df.head(25)"
      ],
      "execution_count": null,
      "outputs": []
    },
    {
      "cell_type": "markdown",
      "metadata": {
        "id": "WPWCu753yQy_"
      },
      "source": [
        "Aqui está o top 10 de maiores audiências\n",
        "\n"
      ]
    },
    {
      "cell_type": "code",
      "metadata": {
        "id": "JfJxsm1TyGKb"
      },
      "source": [
        "df_audiencia10"
      ],
      "execution_count": null,
      "outputs": []
    },
    {
      "cell_type": "markdown",
      "metadata": {
        "id": "zhyUuoIXutdy"
      },
      "source": [
        "E aqui o top 25 de maiores audiências:\n",
        "\n",
        "\n",
        "\n",
        "\n",
        "\n",
        "\n"
      ]
    },
    {
      "cell_type": "code",
      "metadata": {
        "id": "S2c12ANEyWwq"
      },
      "source": [
        "df_audiencia25"
      ],
      "execution_count": null,
      "outputs": []
    },
    {
      "cell_type": "markdown",
      "metadata": {
        "id": "XkcqzEvd1hTk"
      },
      "source": [
        "Outro dado que que calculamos é a média de audiência top 10 e top 25.\n",
        "\n",
        "\n",
        "\n",
        "Média de audiência do top 10:\n"
      ]
    },
    {
      "cell_type": "code",
      "metadata": {
        "id": "UXuOfbiJ1ZfG",
        "colab": {
          "base_uri": "https://localhost:8080/"
        },
        "outputId": "f15fdfc1-fd45-44a8-97c7-dddcc3463f0a"
      },
      "source": [
        "media = df_audiencia10[\"audiência\"].mean()\n",
        "print (\"%.2f\" % media + \" pontos de audiência\")"
      ],
      "execution_count": null,
      "outputs": [
        {
          "output_type": "stream",
          "name": "stdout",
          "text": [
            "44.78 pontos de audiência\n"
          ]
        }
      ]
    },
    {
      "cell_type": "markdown",
      "metadata": {
        "id": "6efZWwKJ6Xrc"
      },
      "source": [
        "\n",
        "\n",
        "\n",
        "Média de audiência do top 25:\n",
        "\n",
        "\n"
      ]
    },
    {
      "cell_type": "code",
      "metadata": {
        "id": "uPRPa_F5KLjg",
        "colab": {
          "base_uri": "https://localhost:8080/"
        },
        "outputId": "eaf4ebcd-c46e-4c62-d011-83960630013d"
      },
      "source": [
        "media = df_audiencia25[\"audiência\"].mean()\n",
        "print(\"%.2f\" % media + \" pontos de audiência\")"
      ],
      "execution_count": null,
      "outputs": [
        {
          "output_type": "stream",
          "name": "stdout",
          "text": [
            "41.37 pontos de audiência\n"
          ]
        }
      ]
    },
    {
      "cell_type": "markdown",
      "metadata": {
        "id": "NIgiWDY1u0WI"
      },
      "source": [
        "Nesta próxima análise, verificamos quantos e quais são os diretores que dirigiram o top 10 das novelas de maiores audiências:"
      ]
    },
    {
      "cell_type": "code",
      "metadata": {
        "id": "w3nZZ8aW5wZM",
        "colab": {
          "base_uri": "https://localhost:8080/"
        },
        "outputId": "0463a6a6-ce9b-4739-ed19-c977f534e8be"
      },
      "source": [
        "diretores = df_audiencia10[\"direção\"].unique()\n",
        "print(diretores)\n",
        "print(len(diretores))"
      ],
      "execution_count": null,
      "outputs": [
        {
          "output_type": "stream",
          "name": "stdout",
          "text": [
            "['Wolf Maya' 'Herval Rossano' 'Reynaldo Boury' 'Gonzaga Blota'\n",
            " 'Sérgio Mattar']\n",
            "5\n"
          ]
        }
      ]
    },
    {
      "cell_type": "markdown",
      "metadata": {
        "id": "K20hcl30K2b_"
      },
      "source": [
        "Outra análise que fizemos foi a comparação de novelas mais recentes. Dessa forma, filtramos as novelas a partir de 2010 e fizemos o gráfico de dispersão com a coluna capítulos no eixo x e a audiência no eixo y:"
      ]
    },
    {
      "cell_type": "code",
      "metadata": {
        "id": "iI02MblzquOt"
      },
      "source": [
        "df_novelas10 = df.query(\"ano >= 2.010\")\n",
        "print(df_novelas10.head())\n",
        "plt.plot(df_novelas10[\"capítulos\"], df_novelas10[\"audiência\"],'.')"
      ],
      "execution_count": null,
      "outputs": []
    },
    {
      "cell_type": "markdown",
      "metadata": {
        "id": "Kw-F8MP0jgbd"
      },
      "source": [
        "Partindo do gráfico, verificamos que a novela Êta Mundo Bom têm a maior audiência a partir de 2010 e teve maior número de capítulos."
      ]
    },
    {
      "cell_type": "markdown",
      "metadata": {
        "id": "ZN9A2lQErcFI"
      },
      "source": [
        "Aqui fizemos o cálculo de correlação entre os dados de capítulos e dias.\n",
        "Dessa forma, foi verificado que eles estão positivamente relacionados:"
      ]
    },
    {
      "cell_type": "code",
      "metadata": {
        "id": "J5ARu8u0jgIt"
      },
      "source": [
        "df_novelas10['capítulos'].corr(df_novelas10['dias'])"
      ],
      "execution_count": null,
      "outputs": []
    },
    {
      "cell_type": "markdown",
      "metadata": {
        "id": "0mkuMpzgvILk"
      },
      "source": [
        "Com a análise de correlação positivamente relacionada, fizemos a reta de regressão linear no gráfico que pode ser visto abaixo:"
      ]
    },
    {
      "cell_type": "code",
      "metadata": {
        "id": "liwOwJ2QBLbq"
      },
      "source": [
        "(a, b) = np.polyfit(x=df_novelas10[\"capítulos\"], y=df_novelas10['dias'], deg = 1)\n",
        "plt.plot(df_novelas10[\"capítulos\"],df_novelas10[\"dias\"],'.')\n",
        "x = np.arange(0,251)\n",
        "y = a*x+b\n",
        "plt.plot(x,y,'g')"
      ],
      "execution_count": null,
      "outputs": []
    },
    {
      "cell_type": "markdown",
      "metadata": {
        "id": "CkasqZM0XArz"
      },
      "source": [
        "Por fim, fizemos também uma análise para saber a novela de menor audiência no período de 2010 a 2019.\n",
        "Boogie Oogie teve 17.45 pontos de audiência.\n",
        "Ficando na frente de Espelho da Vida, Meu Pedacinho de Chão (Remake), Lado a Lado\te Joia Rara\tno top 5 de menores audiências:"
      ]
    },
    {
      "cell_type": "code",
      "metadata": {
        "id": "mIDWDHDm0BVM"
      },
      "source": [
        "df_audiencia10 = df.sort_values(by = \"audiência\")\n",
        "df_audiencia10"
      ],
      "execution_count": null,
      "outputs": []
    }
  ]
}